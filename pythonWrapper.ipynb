{
 "cells": [
  {
   "cell_type": "code",
   "execution_count": 1,
   "metadata": {},
   "outputs": [],
   "source": [
    "from py4j.java_gateway import JavaGateway, CallbackServerParameters"
   ]
  },
  {
   "cell_type": "code",
   "execution_count": null,
   "metadata": {},
   "outputs": [],
   "source": [
    "# connect to the JVM\n",
    "gateway = JavaGateway(callback_server_parameters=CallbackServerParameters())\n",
    "# get the AdditionApplication instance\n",
    "app = gateway.entry_point    "
   ]
  },
  {
   "cell_type": "code",
   "execution_count": 2,
   "metadata": {},
   "outputs": [],
   "source": [
    "# LambdaWrapper: a wrapper for lambda expression in python. This wrapper will be converted to the Function class in the Java side\n",
    "class LambdaWrapper(object):\n",
    "\n",
    "    def __init__(self, f):\n",
    "        self._f = f\n",
    "\n",
    "    def apply(self, arg):\n",
    "        return self._f(arg)\n",
    "\n",
    "    class Java:\n",
    "        implements = ['java.util.function.Function']"
   ]
  },
  {
   "cell_type": "code",
   "execution_count": null,
   "metadata": {},
   "outputs": [],
   "source": [
    "class MemPipeline(object):\n",
    "    \n",
    "    memPs = dict()\n",
    "    count = 0\n",
    "    \n",
    "    def __init__():\n",
    "        global gateway\n",
    "        self.gateway = gateway\n",
    "        # map the python-side MemPipeline wrapper to a index\n",
    "        MemPipeline.memPs[self] = count\n",
    "        MemPipeline.count += 1\n",
    "        # call the java-side wrapper to create a real MemPipeline identified by the index\n",
    "        gateway.entry_point.create_MemPipeline()\n",
    "        \n",
    "    def readTextFile(inputPath):\n",
    "        # retrieve the index of the MemPipeline wrapper\n",
    "        index = MemPipeline.memPs[self]\n",
    "        # call the java-side wrapper to execute the readTextFile method for the real MemPipeline identified by the index\n",
    "        gateway.jvm.CS239.crunch_in_python.MemPipeline_.readTextFile_(index, inputPath)\n",
    "        # return a PCollection wrapper to represent the result of the readTextFile\n",
    "        return PCollection()\n",
    "    \n",
    "    def writeTextFile(data, outputPath):\n",
    "        # retrieve the index of the MemPipeline wrapper\n",
    "        index_pipeline = MemPipeline.memPs[self]\n",
    "        # todo: extend this method for PCollection and other types\n",
    "        # retrieve the index of the PTable wrapper\n",
    "        index_pTable = PTable.pTables[data]\n",
    "        # call the java-side wrapper to execute the writeTextFile method for the real MemPipeline identified by the index\n",
    "        gateway.jvm.CS239.crunch_in_python.MemPipeline_.writeTextFile_(index_pipeline, index_pTable, outputPath)\n",
    "        \n",
    "    def done():\n",
    "        # retrieve the index of the MemPipeline wrapper\n",
    "        index = MemPipeline.memPs[self]\n",
    "        # call the java-side wrapper to execute the writeTextFile method for the real MemPipeline identified by the index\n",
    "        gateway.jvm.CS239.crunch_in_python.MemPipeline_.done_(index)"
   ]
  },
  {
   "cell_type": "code",
   "execution_count": null,
   "metadata": {},
   "outputs": [],
   "source": [
    "class PCollection(object):\n",
    "    \n",
    "    pCols = dict()\n",
    "    count = 0\n",
    "    \n",
    "    def __init__():\n",
    "        global gateway\n",
    "        self.gateway = gateway\n",
    "        # map the python-side PCollection wrapper to a index\n",
    "        PCollection.pCols[self] = count\n",
    "        PCollection.count += 1\n",
    "        \n",
    "    def parallelDo(lambda_exp):\n",
    "        # wrap the lambda expression\n",
    "        lambdaWrapper = LambdaWrapper(lambda_exp)\n",
    "        # retrieve the index of the PCollection wrapper\n",
    "        index = PCollection.pCols[self]\n",
    "        # ask the java-side wrapper to execute the parallelDo method for the real PCollection identified by the index\n",
    "        gateway.jvm.CS239.crunch_in_python.PCollection_.parallelDo_(index, lambdaWrapper)\n",
    "        # return a PCollection wrapper to represent the result of the paralleDo\n",
    "        return PCollection()\n",
    "    \n",
    "    def count():\n",
    "        # retrieve the index of the PCollection wrapper\n",
    "        index = PCollection.pCols[self]\n",
    "        # ask the java-side wrapper to execute the parallelDo method for the real PCollection identified by the index\n",
    "        gateway.jvm.CS239.crunch_in_python.PCollection_.count(index)\n",
    "        # return a PCollection wrapper to represent the result of the paralleDo\n",
    "        return PTable()"
   ]
  },
  {
   "cell_type": "code",
   "execution_count": 3,
   "metadata": {},
   "outputs": [],
   "source": [
    "class PTable(object):\n",
    "    \n",
    "    pTables = dict()\n",
    "    count = 0\n",
    "    \n",
    "    def __init__():\n",
    "        global gateway\n",
    "        self.gateway = gateway\n",
    "        # map the python-side PTable wrapper to a index\n",
    "        PTable.pTables[self] = count\n",
    "        PTable.count += 1  \n",
    "    "
   ]
  },
  {
   "cell_type": "code",
   "execution_count": 4,
   "metadata": {},
   "outputs": [
    {
     "name": "stdout",
     "output_type": "stream",
     "text": [
      "The number was 42\n"
     ]
    }
   ],
   "source": [
    "# test:\n"
   ]
  },
  {
   "cell_type": "code",
   "execution_count": null,
   "metadata": {},
   "outputs": [],
   "source": [
    "inputPath = \"\"\n",
    "outputPath = \"\"\n",
    "pipeline = MemPipeline()\n",
    "lines = pipeline.readTextFile(inputPath)\n",
    "words = lines.parallelDo(lambda line: line.split())\n",
    "counts = words.count()\n",
    "pipeline.writeTextFile(counts, outputPath)\n",
    "pipeline.done()"
   ]
  }
 ],
 "metadata": {
  "kernelspec": {
   "display_name": "Python [conda env:crunch_in_python]",
   "language": "python",
   "name": "conda-env-crunch_in_python-py"
  },
  "language_info": {
   "codemirror_mode": {
    "name": "ipython",
    "version": 3
   },
   "file_extension": ".py",
   "mimetype": "text/x-python",
   "name": "python",
   "nbconvert_exporter": "python",
   "pygments_lexer": "ipython3",
   "version": "3.7.9"
  }
 },
 "nbformat": 4,
 "nbformat_minor": 2
}
