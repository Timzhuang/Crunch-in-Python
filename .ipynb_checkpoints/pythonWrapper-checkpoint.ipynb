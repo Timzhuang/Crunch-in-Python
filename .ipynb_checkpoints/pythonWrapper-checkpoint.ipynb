{
 "cells": [
  {
   "cell_type": "code",
   "execution_count": 1,
   "metadata": {},
   "outputs": [],
   "source": [
    "from py4j.java_gateway import JavaGateway, CallbackServerParameters"
   ]
  },
  {
   "cell_type": "code",
   "execution_count": 2,
   "metadata": {},
   "outputs": [],
   "source": [
    "# connect to the JVM\n",
    "gateway = JavaGateway(callback_server_parameters=CallbackServerParameters())  "
   ]
  },
  {
   "cell_type": "code",
   "execution_count": 3,
   "metadata": {},
   "outputs": [],
   "source": [
    "# LambdaWrapper: a wrapper for lambda expression in python. This wrapper will be converted to the Function class in the Java side\n",
    "class LambdaWrapper(object):\n",
    "\n",
    "    def __init__(self, f):\n",
    "        self._f = f\n",
    "\n",
    "    def apply(self, arg):\n",
    "        return self._f(arg)\n",
    "\n",
    "    class Java:\n",
    "        implements = ['java.util.function.Function']"
   ]
  },
  {
   "cell_type": "code",
   "execution_count": 4,
   "metadata": {},
   "outputs": [],
   "source": [
    "class Pipeline(object):\n",
    "    \n",
    "    memPs = dict()\n",
    "    count = 0\n",
    "    \n",
    "    def __init__(self):\n",
    "        global gateway\n",
    "        self.gateway = gateway\n",
    "        # map the python-side Pipeline wrapper to a index\n",
    "        Pipeline.memPs[self] = Pipeline.count\n",
    "        Pipeline.count += 1\n",
    "        # call the java-side wrapper to create a real Pipeline identified by the index\n",
    "        #gateway.entry_point.create_MemPipeline()\n",
    "        gateway.jvm.CS239.crunch_in_python.Pipeline_.getMemPipelineInstance_()\n",
    "        \n",
    "    def readTextFile(self, inputPath):\n",
    "        # retrieve the index of the Pipeline wrapper\n",
    "        index = Pipeline.memPs[self]\n",
    "        # call the java-side wrapper to execute the readTextFile method for the real Pipeline identified by the index\n",
    "        gateway.jvm.CS239.crunch_in_python.Pipeline_.readTextFile_(index, inputPath)\n",
    "        # return a PCollection wrapper to represent the result of the readTextFile\n",
    "        return PCollection()\n",
    "    \n",
    "    def writeTextFile(self, data, outputPath):\n",
    "        # retrieve the index of the Pipeline wrapper\n",
    "        index_pipeline = Pipeline.memPs[self]\n",
    "        \n",
    "        if isinstance(data, PTable):\n",
    "            # retrieve the index of the wrapper\n",
    "            index_data = PTable.pTables[data]\n",
    "            # call the java-side wrapper to execute the writeTextFile method for the real Pipeline identified by the index\n",
    "            gateway.jvm.CS239.crunch_in_python.Pipeline_.writeTextFile_(index_pipeline, index_data, outputPath, \"PTable\")\n",
    "        elif isinstance(data, PCollection):\n",
    "            # retrieve the index of the wrapper\n",
    "            index_data = PCollection.pCols[data]\n",
    "            # call the java-side wrapper to execute the writeTextFile method for the real Pipeline identified by the index\n",
    "            gateway.jvm.CS239.crunch_in_python.Pipeline_.writeTextFile_(index_pipeline, index_data, outputPath, \"PCollection\")\n",
    "        \n",
    "    def done(self):\n",
    "        # retrieve the index of the Pipeline wrapper\n",
    "        index = Pipeline.memPs[self]\n",
    "        # call the java-side wrapper to execute the writeTextFile method for the real Pipeline identified by the index\n",
    "        gateway.jvm.CS239.crunch_in_python.Pipeline_.done_(index)"
   ]
  },
  {
   "cell_type": "code",
   "execution_count": 5,
   "metadata": {},
   "outputs": [],
   "source": [
    "class PCollection(object):\n",
    "    \n",
    "    pCols = dict()\n",
    "    count = 0\n",
    "    \n",
    "    def __init__(self):\n",
    "        global gateway\n",
    "        self.gateway = gateway\n",
    "        # map the python-side PCollection wrapper to a index\n",
    "        PCollection.pCols[self] = PCollection.count\n",
    "        PCollection.count += 1\n",
    "        \n",
    "    def parallelDo(self, lambda_exp):\n",
    "        # wrap the lambda expression\n",
    "        lambdaWrapper = LambdaWrapper(lambda_exp)\n",
    "        # retrieve the index of the PCollection wrapper\n",
    "        index = PCollection.pCols[self]\n",
    "        # ask the java-side wrapper to execute the parallelDo method for the real PCollection identified by the index\n",
    "        gateway.jvm.CS239.crunch_in_python.PCollection_.parallelDo_(index, lambdaWrapper)\n",
    "        # return a PCollection wrapper to represent the result of the paralleDo\n",
    "        return PCollection()\n",
    "    \n",
    "    def aggregate_count(self):\n",
    "        # retrieve the index of the PCollection wrapper\n",
    "        index = PCollection.pCols[self]\n",
    "        # ask the java-side wrapper to execute the count method for the real PCollection identified by the index\n",
    "        gateway.jvm.CS239.crunch_in_python.PCollection_.count_(index)\n",
    "        # return a PTable wrapper to represent the result of the paralleDo\n",
    "        return PTable()\n",
    "    \n",
    "    def max(self):\n",
    "        # retrieve the index of the PCollection wrapper\n",
    "        index = PCollection.pCols[self]\n",
    "        # ask the java-side wrapper to execute the max method for the real PCollection identified by the index\n",
    "        gateway.jvm.CS239.crunch_in_python.PCollection_.max_(index)\n",
    "        # return a PObject wrapper to represent the result of the paralleDo\n",
    "        return PObject()\n",
    "    \n",
    "    def tokenize(self):\n",
    "        # retrieve the index of the PCollection wrapper\n",
    "        index = PCollection.pCols[self]\n",
    "        # ask the java-side wrapper to execute the tokenize method for the real PCollection identified by the index\n",
    "        gateway.jvm.CS239.crunch_in_python.PCollection_.tokenize_(index)\n",
    "        # return a PCollection wrapper to represent the result of the paralleDo\n",
    "        return PCollection()\n",
    "    \n",
    "    def toDouble(self):\n",
    "        # retrieve the index of the PCollection wrapper\n",
    "        index = PCollection.pCols[self]\n",
    "        # ask the java-side wrapper to execute the toDouble method for the real PCollection identified by the index\n",
    "        gateway.jvm.CS239.crunch_in_python.PCollection_.toDouble_(index)\n",
    "        # return a PCollection wrapper to represent the result of the paralleDo\n",
    "        return PCollection()"
   ]
  },
  {
   "cell_type": "code",
   "execution_count": 6,
   "metadata": {},
   "outputs": [],
   "source": [
    "class PTable(object):\n",
    "    \n",
    "    pTables = dict()\n",
    "    count = 0\n",
    "    \n",
    "    def __init__(self):\n",
    "        global gateway\n",
    "        self.gateway = gateway\n",
    "        # map the python-side PTable wrapper to a index\n",
    "        PTable.pTables[self] = PTable.count\n",
    "        PTable.count += 1  \n",
    "    "
   ]
  },
  {
   "cell_type": "code",
   "execution_count": 7,
   "metadata": {},
   "outputs": [],
   "source": [
    "class PObject(object):\n",
    "    \n",
    "    pObjects = dict()\n",
    "    count = 0\n",
    "    \n",
    "    def __init__(self):\n",
    "        global gateway\n",
    "        self.gateway = gateway\n",
    "        # map the python-side PTable wrapper to a index\n",
    "        PObject.pObjects[self] = PObject.count\n",
    "        PObject.count += 1  \n",
    "        \n",
    "    def getValue(self):\n",
    "        # retrieve the index of the PCollection wrapper\n",
    "        index = PObject.pObjects[self]\n",
    "        # ask the java-side wrapper to execute the toDouble method for the real PCollection identified by the index\n",
    "        value = gateway.jvm.CS239.crunch_in_python.PObject.getValue_(index)\n",
    "        # return a PCollection wrapper to represent the result of the paralleDo\n",
    "        return value"
   ]
  },
  {
   "cell_type": "code",
   "execution_count": 8,
   "metadata": {},
   "outputs": [
    {
     "data": {
      "text/plain": [
       "'\\npipeline = Pipeline()\\ninputPath = \"C:\\\\Users\\\\Tim\\\\Documents\\\\cs_239_big_data_system\\\\crunch_in_python\\\\input.txt\"\\noutputPath = \"C:\\\\Users\\\\Tim\\\\Documents\\\\cs_239_big_data_system\\\\crunch_in_python\\\\output\"\\nlines = pipeline.readTextFile(inputPath)\\nwords = lines.tokenize()\\ncounts = words.aggregate_count()\\npipeline.writeTextFile(counts, outputPath)\\npipeline.done()\\ngateway.close_callback_server()\\n'"
      ]
     },
     "execution_count": 8,
     "metadata": {},
     "output_type": "execute_result"
    }
   ],
   "source": [
    "# test 1:\n",
    "'''\n",
    "pipeline = Pipeline()\n",
    "inputPath = \"C:\\\\Users\\\\Tim\\\\Documents\\\\cs_239_big_data_system\\\\crunch_in_python\\\\input.txt\"\n",
    "outputPath = \"C:\\\\Users\\\\Tim\\\\Documents\\\\cs_239_big_data_system\\\\crunch_in_python\\\\output\"\n",
    "lines = pipeline.readTextFile(inputPath)\n",
    "words = lines.tokenize()\n",
    "counts = words.aggregate_count()\n",
    "pipeline.writeTextFile(counts, outputPath)\n",
    "pipeline.done()\n",
    "gateway.close_callback_server()\n",
    "'''\n"
   ]
  },
  {
   "cell_type": "code",
   "execution_count": 9,
   "metadata": {},
   "outputs": [],
   "source": [
    "# test 2:\n",
    "pipeline = Pipeline()\n",
    "inputPath = \"C:\\\\Users\\\\Tim\\\\Documents\\\\cs_239_big_data_system\\\\crunch_in_python\\\\input.txt\"\n",
    "outputPath = \"C:\\\\Users\\\\Tim\\\\Documents\\\\cs_239_big_data_system\\\\crunch_in_python\\\\output\"\n",
    "lines = pipeline.readTextFile(inputPath)"
   ]
  },
  {
   "cell_type": "code",
   "execution_count": 10,
   "metadata": {},
   "outputs": [],
   "source": [
    "data = lines.tokenize().toDouble()"
   ]
  },
  {
   "cell_type": "code",
   "execution_count": 11,
   "metadata": {},
   "outputs": [],
   "source": [
    "data2 = data.parallelDo(lambda d : 2*d)"
   ]
  },
  {
   "cell_type": "code",
   "execution_count": 12,
   "metadata": {},
   "outputs": [],
   "source": [
    "maxValue = data2.max()"
   ]
  },
  {
   "cell_type": "code",
   "execution_count": 13,
   "metadata": {},
   "outputs": [],
   "source": [
    "#print(maxValue.getValue())"
   ]
  },
  {
   "cell_type": "code",
   "execution_count": 14,
   "metadata": {},
   "outputs": [],
   "source": [
    "pipeline.writeTextFile(data2, outputPath)"
   ]
  },
  {
   "cell_type": "code",
   "execution_count": 15,
   "metadata": {},
   "outputs": [],
   "source": [
    "pipeline.done()"
   ]
  },
  {
   "cell_type": "code",
   "execution_count": 16,
   "metadata": {},
   "outputs": [],
   "source": [
    "gateway.close_callback_server()"
   ]
  },
  {
   "cell_type": "code",
   "execution_count": null,
   "metadata": {},
   "outputs": [],
   "source": []
  }
 ],
 "metadata": {
  "kernelspec": {
   "display_name": "Python [conda env:crunch_in_python]",
   "language": "python",
   "name": "conda-env-crunch_in_python-py"
  },
  "language_info": {
   "codemirror_mode": {
    "name": "ipython",
    "version": 3
   },
   "file_extension": ".py",
   "mimetype": "text/x-python",
   "name": "python",
   "nbconvert_exporter": "python",
   "pygments_lexer": "ipython3",
   "version": "3.7.9"
  }
 },
 "nbformat": 4,
 "nbformat_minor": 2
}
