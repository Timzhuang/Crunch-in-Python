{
 "cells": [
  {
   "cell_type": "code",
   "execution_count": 1,
   "metadata": {},
   "outputs": [],
   "source": [
    "from py4j.java_gateway import JavaGateway, CallbackServerParameters"
   ]
  },
  {
   "cell_type": "code",
   "execution_count": 14,
   "metadata": {},
   "outputs": [
    {
     "ename": "Py4JNetworkError",
     "evalue": "An error occurred while trying to start the callback server (127.0.0.1:25334)",
     "output_type": "error",
     "traceback": [
      "\u001b[1;31m---------------------------------------------------------------------------\u001b[0m",
      "\u001b[1;31mOSError\u001b[0m                                   Traceback (most recent call last)",
      "\u001b[1;32m~\\Anaconda3\\envs\\crunch_in_python\\lib\\site-packages\\py4j\\java_gateway.py\u001b[0m in \u001b[0;36mstart\u001b[1;34m(self)\u001b[0m\n\u001b[0;32m   2206\u001b[0m         \u001b[1;32mtry\u001b[0m\u001b[1;33m:\u001b[0m\u001b[1;33m\u001b[0m\u001b[1;33m\u001b[0m\u001b[0m\n\u001b[1;32m-> 2207\u001b[1;33m             \u001b[0mself\u001b[0m\u001b[1;33m.\u001b[0m\u001b[0mserver_socket\u001b[0m\u001b[1;33m.\u001b[0m\u001b[0mbind\u001b[0m\u001b[1;33m(\u001b[0m\u001b[1;33m(\u001b[0m\u001b[0mself\u001b[0m\u001b[1;33m.\u001b[0m\u001b[0maddress\u001b[0m\u001b[1;33m,\u001b[0m \u001b[0mself\u001b[0m\u001b[1;33m.\u001b[0m\u001b[0mport\u001b[0m\u001b[1;33m)\u001b[0m\u001b[1;33m)\u001b[0m\u001b[1;33m\u001b[0m\u001b[1;33m\u001b[0m\u001b[0m\n\u001b[0m\u001b[0;32m   2208\u001b[0m             \u001b[1;31m# 4-tuple for ipv6, 2-tuple for ipv4\u001b[0m\u001b[1;33m\u001b[0m\u001b[1;33m\u001b[0m\u001b[1;33m\u001b[0m\u001b[0m\n",
      "\u001b[1;31mOSError\u001b[0m: [WinError 10048] Only one usage of each socket address (protocol/network address/port) is normally permitted",
      "\nDuring handling of the above exception, another exception occurred:\n",
      "\u001b[1;31mPy4JNetworkError\u001b[0m                          Traceback (most recent call last)",
      "\u001b[1;32m<ipython-input-14-a39e9f2a36fa>\u001b[0m in \u001b[0;36m<module>\u001b[1;34m\u001b[0m\n\u001b[0;32m      1\u001b[0m \u001b[1;31m# connect to the JVM\u001b[0m\u001b[1;33m\u001b[0m\u001b[1;33m\u001b[0m\u001b[1;33m\u001b[0m\u001b[0m\n\u001b[1;32m----> 2\u001b[1;33m \u001b[0mgateway\u001b[0m \u001b[1;33m=\u001b[0m \u001b[0mJavaGateway\u001b[0m\u001b[1;33m(\u001b[0m\u001b[0mcallback_server_parameters\u001b[0m\u001b[1;33m=\u001b[0m\u001b[0mCallbackServerParameters\u001b[0m\u001b[1;33m(\u001b[0m\u001b[1;33m)\u001b[0m\u001b[1;33m)\u001b[0m\u001b[1;33m\u001b[0m\u001b[1;33m\u001b[0m\u001b[0m\n\u001b[0m\u001b[0;32m      3\u001b[0m \u001b[1;31m# get the AdditionApplication instance\u001b[0m\u001b[1;33m\u001b[0m\u001b[1;33m\u001b[0m\u001b[1;33m\u001b[0m\u001b[0m\n\u001b[0;32m      4\u001b[0m \u001b[0mapp\u001b[0m \u001b[1;33m=\u001b[0m \u001b[0mgateway\u001b[0m\u001b[1;33m.\u001b[0m\u001b[0mentry_point\u001b[0m\u001b[1;33m\u001b[0m\u001b[1;33m\u001b[0m\u001b[0m\n",
      "\u001b[1;32m~\\Anaconda3\\envs\\crunch_in_python\\lib\\site-packages\\py4j\\java_gateway.py\u001b[0m in \u001b[0;36m__init__\u001b[1;34m(self, gateway_client, auto_field, python_proxy_port, start_callback_server, auto_convert, eager_load, gateway_parameters, callback_server_parameters, python_server_entry_point, java_process)\u001b[0m\n\u001b[0;32m   1816\u001b[0m             \u001b[0mself\u001b[0m\u001b[1;33m.\u001b[0m\u001b[0m_eager_load\u001b[0m\u001b[1;33m(\u001b[0m\u001b[1;33m)\u001b[0m\u001b[1;33m\u001b[0m\u001b[1;33m\u001b[0m\u001b[0m\n\u001b[0;32m   1817\u001b[0m         \u001b[1;32mif\u001b[0m \u001b[0mself\u001b[0m\u001b[1;33m.\u001b[0m\u001b[0mcallback_server_parameters\u001b[0m\u001b[1;33m.\u001b[0m\u001b[0meager_load\u001b[0m\u001b[1;33m:\u001b[0m\u001b[1;33m\u001b[0m\u001b[1;33m\u001b[0m\u001b[0m\n\u001b[1;32m-> 1818\u001b[1;33m             \u001b[0mself\u001b[0m\u001b[1;33m.\u001b[0m\u001b[0mstart_callback_server\u001b[0m\u001b[1;33m(\u001b[0m\u001b[0mself\u001b[0m\u001b[1;33m.\u001b[0m\u001b[0mcallback_server_parameters\u001b[0m\u001b[1;33m)\u001b[0m\u001b[1;33m\u001b[0m\u001b[1;33m\u001b[0m\u001b[0m\n\u001b[0m\u001b[0;32m   1819\u001b[0m \u001b[1;33m\u001b[0m\u001b[0m\n\u001b[0;32m   1820\u001b[0m         \u001b[0mself\u001b[0m\u001b[1;33m.\u001b[0m\u001b[0mjava_process\u001b[0m \u001b[1;33m=\u001b[0m \u001b[0mjava_process\u001b[0m\u001b[1;33m\u001b[0m\u001b[1;33m\u001b[0m\u001b[0m\n",
      "\u001b[1;32m~\\Anaconda3\\envs\\crunch_in_python\\lib\\site-packages\\py4j\\java_gateway.py\u001b[0m in \u001b[0;36mstart_callback_server\u001b[1;34m(self, callback_server_parameters)\u001b[0m\n\u001b[0;32m   1892\u001b[0m \u001b[1;33m\u001b[0m\u001b[0m\n\u001b[0;32m   1893\u001b[0m         \u001b[1;32mtry\u001b[0m\u001b[1;33m:\u001b[0m\u001b[1;33m\u001b[0m\u001b[1;33m\u001b[0m\u001b[0m\n\u001b[1;32m-> 1894\u001b[1;33m             \u001b[0mself\u001b[0m\u001b[1;33m.\u001b[0m\u001b[0m_callback_server\u001b[0m\u001b[1;33m.\u001b[0m\u001b[0mstart\u001b[0m\u001b[1;33m(\u001b[0m\u001b[1;33m)\u001b[0m\u001b[1;33m\u001b[0m\u001b[1;33m\u001b[0m\u001b[0m\n\u001b[0m\u001b[0;32m   1895\u001b[0m         \u001b[1;32mexcept\u001b[0m \u001b[0mPy4JNetworkError\u001b[0m\u001b[1;33m:\u001b[0m\u001b[1;33m\u001b[0m\u001b[1;33m\u001b[0m\u001b[0m\n\u001b[0;32m   1896\u001b[0m             \u001b[1;31m# Clean up ourselves before raising the exception.\u001b[0m\u001b[1;33m\u001b[0m\u001b[1;33m\u001b[0m\u001b[1;33m\u001b[0m\u001b[0m\n",
      "\u001b[1;32m~\\Anaconda3\\envs\\crunch_in_python\\lib\\site-packages\\py4j\\java_gateway.py\u001b[0m in \u001b[0;36mstart\u001b[1;34m(self)\u001b[0m\n\u001b[0;32m   2214\u001b[0m                   \u001b[1;34m\"server ({0}:{1})\"\u001b[0m\u001b[1;33m.\u001b[0m\u001b[0mformat\u001b[0m\u001b[1;33m(\u001b[0m\u001b[0mself\u001b[0m\u001b[1;33m.\u001b[0m\u001b[0maddress\u001b[0m\u001b[1;33m,\u001b[0m \u001b[0mself\u001b[0m\u001b[1;33m.\u001b[0m\u001b[0mport\u001b[0m\u001b[1;33m)\u001b[0m\u001b[1;33m\u001b[0m\u001b[1;33m\u001b[0m\u001b[0m\n\u001b[0;32m   2215\u001b[0m             \u001b[0mlogger\u001b[0m\u001b[1;33m.\u001b[0m\u001b[0mexception\u001b[0m\u001b[1;33m(\u001b[0m\u001b[0mmsg\u001b[0m\u001b[1;33m)\u001b[0m\u001b[1;33m\u001b[0m\u001b[1;33m\u001b[0m\u001b[0m\n\u001b[1;32m-> 2216\u001b[1;33m             \u001b[1;32mraise\u001b[0m \u001b[0mPy4JNetworkError\u001b[0m\u001b[1;33m(\u001b[0m\u001b[0mmsg\u001b[0m\u001b[1;33m,\u001b[0m \u001b[0me\u001b[0m\u001b[1;33m)\u001b[0m\u001b[1;33m\u001b[0m\u001b[1;33m\u001b[0m\u001b[0m\n\u001b[0m\u001b[0;32m   2217\u001b[0m \u001b[1;33m\u001b[0m\u001b[0m\n\u001b[0;32m   2218\u001b[0m         \u001b[1;31m# Maybe thread needs to be cleanup up?\u001b[0m\u001b[1;33m\u001b[0m\u001b[1;33m\u001b[0m\u001b[1;33m\u001b[0m\u001b[0m\n",
      "\u001b[1;31mPy4JNetworkError\u001b[0m: An error occurred while trying to start the callback server (127.0.0.1:25334)"
     ]
    }
   ],
   "source": [
    "# connect to the JVM\n",
    "gateway = JavaGateway(callback_server_parameters=CallbackServerParameters())\n",
    "# get the AdditionApplication instance\n",
    "app = gateway.entry_point    "
   ]
  },
  {
   "cell_type": "code",
   "execution_count": 3,
   "metadata": {},
   "outputs": [],
   "source": [
    "# LambdaWrapper: a wrapper for lambda expression in python. This wrapper will be converted to the Function class in the Java side\n",
    "class LambdaWrapper(object):\n",
    "\n",
    "    def __init__(self, f):\n",
    "        self._f = f\n",
    "\n",
    "    def apply(self, arg):\n",
    "        return self._f(arg)\n",
    "\n",
    "    class Java:\n",
    "        implements = ['java.util.function.Function']"
   ]
  },
  {
   "cell_type": "code",
   "execution_count": 4,
   "metadata": {},
   "outputs": [],
   "source": [
    "class MemPipeline(object):\n",
    "    \n",
    "    memPs = dict()\n",
    "    count = 0\n",
    "    \n",
    "    def __init__(self):\n",
    "        global gateway\n",
    "        self.gateway = gateway\n",
    "        # map the python-side MemPipeline wrapper to a index\n",
    "        MemPipeline.memPs[self] = MemPipeline.count\n",
    "        MemPipeline.count += 1\n",
    "        # call the java-side wrapper to create a real MemPipeline identified by the index\n",
    "        #gateway.entry_point.create_MemPipeline()\n",
    "        gateway.jvm.CS239.crunch_in_python.MemPipeline_.getInstance_()\n",
    "        \n",
    "    def readTextFile(self, inputPath):\n",
    "        # retrieve the index of the MemPipeline wrapper\n",
    "        index = MemPipeline.memPs[self]\n",
    "        # call the java-side wrapper to execute the readTextFile method for the real MemPipeline identified by the index\n",
    "        gateway.jvm.CS239.crunch_in_python.MemPipeline_.readTextFile_(index, inputPath)\n",
    "        # return a PCollection wrapper to represent the result of the readTextFile\n",
    "        return PCollection()\n",
    "    \n",
    "    def writeTextFile(self, data, outputPath):\n",
    "        # retrieve the index of the MemPipeline wrapper\n",
    "        index_pipeline = MemPipeline.memPs[self]\n",
    "        # todo: extend this method for PCollection and other types\n",
    "        # retrieve the index of the PTable wrapper\n",
    "        index_pTable = PTable.pTables[data]\n",
    "        # call the java-side wrapper to execute the writeTextFile method for the real MemPipeline identified by the index\n",
    "        gateway.jvm.CS239.crunch_in_python.MemPipeline_.writeTextFile_(index_pipeline, index_pTable, outputPath)\n",
    "        \n",
    "    def done(self):\n",
    "        # retrieve the index of the MemPipeline wrapper\n",
    "        index = MemPipeline.memPs[self]\n",
    "        # call the java-side wrapper to execute the writeTextFile method for the real MemPipeline identified by the index\n",
    "        gateway.jvm.CS239.crunch_in_python.MemPipeline_.done_(index)"
   ]
  },
  {
   "cell_type": "code",
   "execution_count": 5,
   "metadata": {},
   "outputs": [],
   "source": [
    "class PCollection(object):\n",
    "    \n",
    "    pCols = dict()\n",
    "    count = 0\n",
    "    \n",
    "    def __init__(self):\n",
    "        global gateway\n",
    "        self.gateway = gateway\n",
    "        # map the python-side PCollection wrapper to a index\n",
    "        PCollection.pCols[self] = PCollection.count\n",
    "        PCollection.count += 1\n",
    "        \n",
    "    def parallelDo(self, lambda_exp):\n",
    "        # wrap the lambda expression\n",
    "        lambdaWrapper = LambdaWrapper(lambda_exp)\n",
    "        # retrieve the index of the PCollection wrapper\n",
    "        index = PCollection.pCols[self]\n",
    "        # ask the java-side wrapper to execute the parallelDo method for the real PCollection identified by the index\n",
    "        gateway.jvm.CS239.crunch_in_python.PCollection_.parallelDo_(index, lambdaWrapper)\n",
    "        # return a PCollection wrapper to represent the result of the paralleDo\n",
    "        return PCollection()\n",
    "    \n",
    "    def aggregate_count(self):\n",
    "        # retrieve the index of the PCollection wrapper\n",
    "        index = PCollection.pCols[self]\n",
    "        # ask the java-side wrapper to execute the parallelDo method for the real PCollection identified by the index\n",
    "        gateway.jvm.CS239.crunch_in_python.PCollection_.count_(index)\n",
    "        # return a PCollection wrapper to represent the result of the paralleDo\n",
    "        return PTable()\n",
    "    \n",
    "    def tokenize(self):\n",
    "        # retrieve the index of the PCollection wrapper\n",
    "        index = PCollection.pCols[self]\n",
    "        # ask the java-side wrapper to execute the tokenize method for the real PCollection identified by the index\n",
    "        gateway.jvm.CS239.crunch_in_python.PCollection_.tokenize_(index)\n",
    "        # return a PCollection wrapper to represent the result of the paralleDo\n",
    "        return PCollection()"
   ]
  },
  {
   "cell_type": "code",
   "execution_count": 6,
   "metadata": {},
   "outputs": [],
   "source": [
    "class PTable(object):\n",
    "    \n",
    "    pTables = dict()\n",
    "    count = 0\n",
    "    \n",
    "    def __init__(self):\n",
    "        global gateway\n",
    "        self.gateway = gateway\n",
    "        # map the python-side PTable wrapper to a index\n",
    "        PTable.pTables[self] = PTable.count\n",
    "        PTable.count += 1  \n",
    "    "
   ]
  },
  {
   "cell_type": "code",
   "execution_count": 7,
   "metadata": {},
   "outputs": [],
   "source": [
    "# test:\n",
    "pipeline = MemPipeline()"
   ]
  },
  {
   "cell_type": "code",
   "execution_count": 8,
   "metadata": {},
   "outputs": [],
   "source": [
    "inputPath = \"C:\\\\Users\\\\Tim\\\\Documents\\\\cs_239_big_data_system\\\\crunch_in_python\\\\input.txt\"\n",
    "outputPath = \"C:\\\\Users\\\\Tim\\\\Documents\\\\cs_239_big_data_system\\\\crunch_in_python\\\\output\"\n",
    "lines = pipeline.readTextFile(inputPath)"
   ]
  },
  {
   "cell_type": "code",
   "execution_count": 9,
   "metadata": {},
   "outputs": [],
   "source": [
    "words = lines.tokenize()"
   ]
  },
  {
   "cell_type": "code",
   "execution_count": 10,
   "metadata": {},
   "outputs": [],
   "source": [
    "counts = words.aggregate_count()"
   ]
  },
  {
   "cell_type": "code",
   "execution_count": 11,
   "metadata": {},
   "outputs": [],
   "source": [
    "pipeline.writeTextFile(counts, outputPath)"
   ]
  },
  {
   "cell_type": "code",
   "execution_count": 12,
   "metadata": {},
   "outputs": [],
   "source": [
    "pipeline.done()"
   ]
  },
  {
   "cell_type": "code",
   "execution_count": 13,
   "metadata": {},
   "outputs": [],
   "source": [
    "gateway.close_callback_server()"
   ]
  },
  {
   "cell_type": "code",
   "execution_count": null,
   "metadata": {},
   "outputs": [],
   "source": []
  }
 ],
 "metadata": {
  "kernelspec": {
   "display_name": "Python [conda env:crunch_in_python]",
   "language": "python",
   "name": "conda-env-crunch_in_python-py"
  },
  "language_info": {
   "codemirror_mode": {
    "name": "ipython",
    "version": 3
   },
   "file_extension": ".py",
   "mimetype": "text/x-python",
   "name": "python",
   "nbconvert_exporter": "python",
   "pygments_lexer": "ipython3",
   "version": "3.7.9"
  }
 },
 "nbformat": 4,
 "nbformat_minor": 2
}
